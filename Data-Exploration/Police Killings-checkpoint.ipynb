{
 "cells": [
  {
   "cell_type": "markdown",
   "metadata": {
    "collapsed": true
   },
   "source": [
    "Step 1: Read the data and explore"
   ]
  },
  {
   "cell_type": "code",
   "execution_count": 1,
   "metadata": {
    "collapsed": true
   },
   "outputs": [],
   "source": [
    "import pandas as pd\n",
    "import numpy as np\n",
    "import matplotlib.pyplot as plt\n",
    "%matplotlib  inline"
   ]
  },
  {
   "cell_type": "code",
   "execution_count": 6,
   "metadata": {
    "collapsed": false
   },
   "outputs": [
    {
     "data": {
      "text/html": [
       "<div style=\"max-height:1000px;max-width:1500px;overflow:auto;\">\n",
       "<table border=\"1\" class=\"dataframe\">\n",
       "  <thead>\n",
       "    <tr style=\"text-align: right;\">\n",
       "      <th></th>\n",
       "      <th>name</th>\n",
       "      <th>age</th>\n",
       "      <th>gender</th>\n",
       "      <th>raceethnicity</th>\n",
       "      <th>month</th>\n",
       "      <th>day</th>\n",
       "      <th>year</th>\n",
       "      <th>streetaddress</th>\n",
       "      <th>city</th>\n",
       "      <th>state</th>\n",
       "      <th>...</th>\n",
       "      <th>share_hispanic</th>\n",
       "      <th>p_income</th>\n",
       "      <th>h_income</th>\n",
       "      <th>county_income</th>\n",
       "      <th>comp_income</th>\n",
       "      <th>county_bucket</th>\n",
       "      <th>nat_bucket</th>\n",
       "      <th>pov</th>\n",
       "      <th>urate</th>\n",
       "      <th>college</th>\n",
       "    </tr>\n",
       "  </thead>\n",
       "  <tbody>\n",
       "    <tr>\n",
       "      <th>0</th>\n",
       "      <td> A'donte Washington</td>\n",
       "      <td> 16</td>\n",
       "      <td> Male</td>\n",
       "      <td>           Black</td>\n",
       "      <td> February</td>\n",
       "      <td> 23</td>\n",
       "      <td> 2015</td>\n",
       "      <td>           Clearview Ln</td>\n",
       "      <td>    Millbrook</td>\n",
       "      <td> AL</td>\n",
       "      <td>...</td>\n",
       "      <td>  5.6</td>\n",
       "      <td> 28375</td>\n",
       "      <td> 51367</td>\n",
       "      <td> 54766</td>\n",
       "      <td> 0.937936</td>\n",
       "      <td> 3</td>\n",
       "      <td> 3</td>\n",
       "      <td> 14.1</td>\n",
       "      <td> 0.097686</td>\n",
       "      <td> 0.168510</td>\n",
       "    </tr>\n",
       "    <tr>\n",
       "      <th>1</th>\n",
       "      <td>     Aaron Rutledge</td>\n",
       "      <td> 27</td>\n",
       "      <td> Male</td>\n",
       "      <td>           White</td>\n",
       "      <td>    April</td>\n",
       "      <td>  2</td>\n",
       "      <td> 2015</td>\n",
       "      <td> 300 block Iris Park Dr</td>\n",
       "      <td>    Pineville</td>\n",
       "      <td> LA</td>\n",
       "      <td>...</td>\n",
       "      <td>  0.5</td>\n",
       "      <td> 14678</td>\n",
       "      <td> 27972</td>\n",
       "      <td> 40930</td>\n",
       "      <td> 0.683411</td>\n",
       "      <td> 2</td>\n",
       "      <td> 1</td>\n",
       "      <td> 28.8</td>\n",
       "      <td> 0.065724</td>\n",
       "      <td> 0.111402</td>\n",
       "    </tr>\n",
       "    <tr>\n",
       "      <th>2</th>\n",
       "      <td>        Aaron Siler</td>\n",
       "      <td> 26</td>\n",
       "      <td> Male</td>\n",
       "      <td>           White</td>\n",
       "      <td>    March</td>\n",
       "      <td> 14</td>\n",
       "      <td> 2015</td>\n",
       "      <td>   22nd Ave and 56th St</td>\n",
       "      <td>      Kenosha</td>\n",
       "      <td> WI</td>\n",
       "      <td>...</td>\n",
       "      <td> 16.8</td>\n",
       "      <td> 25286</td>\n",
       "      <td> 45365</td>\n",
       "      <td> 54930</td>\n",
       "      <td> 0.825869</td>\n",
       "      <td> 2</td>\n",
       "      <td> 3</td>\n",
       "      <td> 14.6</td>\n",
       "      <td> 0.166293</td>\n",
       "      <td> 0.147312</td>\n",
       "    </tr>\n",
       "    <tr>\n",
       "      <th>3</th>\n",
       "      <td>       Aaron Valdez</td>\n",
       "      <td> 25</td>\n",
       "      <td> Male</td>\n",
       "      <td> Hispanic/Latino</td>\n",
       "      <td>    March</td>\n",
       "      <td> 11</td>\n",
       "      <td> 2015</td>\n",
       "      <td>      3000 Seminole Ave</td>\n",
       "      <td>   South Gate</td>\n",
       "      <td> CA</td>\n",
       "      <td>...</td>\n",
       "      <td> 98.8</td>\n",
       "      <td> 17194</td>\n",
       "      <td> 48295</td>\n",
       "      <td> 55909</td>\n",
       "      <td> 0.863814</td>\n",
       "      <td> 3</td>\n",
       "      <td> 3</td>\n",
       "      <td> 11.7</td>\n",
       "      <td> 0.124827</td>\n",
       "      <td> 0.050133</td>\n",
       "    </tr>\n",
       "    <tr>\n",
       "      <th>4</th>\n",
       "      <td>       Adam Jovicic</td>\n",
       "      <td> 29</td>\n",
       "      <td> Male</td>\n",
       "      <td>           White</td>\n",
       "      <td>    March</td>\n",
       "      <td> 19</td>\n",
       "      <td> 2015</td>\n",
       "      <td>         364 Hiwood Ave</td>\n",
       "      <td> Munroe Falls</td>\n",
       "      <td> OH</td>\n",
       "      <td>...</td>\n",
       "      <td>  1.7</td>\n",
       "      <td> 33954</td>\n",
       "      <td> 68785</td>\n",
       "      <td> 49669</td>\n",
       "      <td> 1.384868</td>\n",
       "      <td> 5</td>\n",
       "      <td> 4</td>\n",
       "      <td>  1.9</td>\n",
       "      <td> 0.063550</td>\n",
       "      <td> 0.403954</td>\n",
       "    </tr>\n",
       "  </tbody>\n",
       "</table>\n",
       "<p>5 rows × 34 columns</p>\n",
       "</div>"
      ],
      "text/plain": [
       "                 name age gender    raceethnicity     month  day  year  \\\n",
       "0  A'donte Washington  16   Male            Black  February   23  2015   \n",
       "1      Aaron Rutledge  27   Male            White     April    2  2015   \n",
       "2         Aaron Siler  26   Male            White     March   14  2015   \n",
       "3        Aaron Valdez  25   Male  Hispanic/Latino     March   11  2015   \n",
       "4        Adam Jovicic  29   Male            White     March   19  2015   \n",
       "\n",
       "            streetaddress          city state    ...     share_hispanic  \\\n",
       "0            Clearview Ln     Millbrook    AL    ...                5.6   \n",
       "1  300 block Iris Park Dr     Pineville    LA    ...                0.5   \n",
       "2    22nd Ave and 56th St       Kenosha    WI    ...               16.8   \n",
       "3       3000 Seminole Ave    South Gate    CA    ...               98.8   \n",
       "4          364 Hiwood Ave  Munroe Falls    OH    ...                1.7   \n",
       "\n",
       "   p_income  h_income  county_income  comp_income  county_bucket  nat_bucket  \\\n",
       "0     28375     51367          54766     0.937936              3           3   \n",
       "1     14678     27972          40930     0.683411              2           1   \n",
       "2     25286     45365          54930     0.825869              2           3   \n",
       "3     17194     48295          55909     0.863814              3           3   \n",
       "4     33954     68785          49669     1.384868              5           4   \n",
       "\n",
       "    pov     urate   college  \n",
       "0  14.1  0.097686  0.168510  \n",
       "1  28.8  0.065724  0.111402  \n",
       "2  14.6  0.166293  0.147312  \n",
       "3  11.7  0.124827  0.050133  \n",
       "4   1.9  0.063550  0.403954  \n",
       "\n",
       "[5 rows x 34 columns]"
      ]
     },
     "execution_count": 6,
     "metadata": {},
     "output_type": "execute_result"
    }
   ],
   "source": [
    "police_killings = pd.read_csv(\"police_killings.csv\", encoding = \"ISO-8859-1\")\n",
    "police_killings.columns.tolist()\n",
    "police_killings.dtypes\n",
    "police_killings.head(5)"
   ]
  },
  {
   "cell_type": "markdown",
   "metadata": {},
   "source": [
    "Shootings by race"
   ]
  },
  {
   "cell_type": "code",
   "execution_count": 14,
   "metadata": {
    "collapsed": false
   },
   "outputs": [
    {
     "name": "stdout",
     "output_type": "stream",
     "text": [
      "White                     236\n",
      "Black                     135\n",
      "Hispanic/Latino            67\n",
      "Unknown                    15\n",
      "Asian/Pacific Islander     10\n",
      "Native American             4\n",
      "dtype: int64\n",
      "6\n"
     ]
    },
    {
     "data": {
      "image/png": "[encoded data removed]",
      "text/plain": [
       "<matplotlib.figure.Figure at 0x7f8ab7cf30b8>"
      ]
     },
     "metadata": {},
     "output_type": "display_data"
    }
   ],
   "source": [
    "counts = police_killings[\"raceethnicity\"].value_counts()\n",
    "print(counts)\n",
    "print(len(counts))\n",
    "plt.bar(range(len(counts)), police_killings[\"raceethnicity\"].value_counts(), width = 0.4)\n",
    "plt.xticks(np.arange(6)+0.2, counts.index, rotation = \"vertical\")\n",
    "plt.show()"
   ]
  },
  {
   "cell_type": "markdown",
   "metadata": {},
   "source": [
    "Shootings by regional income"
   ]
  },
  {
   "cell_type": "code",
   "execution_count": 16,
   "metadata": {
    "collapsed": false
   },
   "outputs": [
    {
     "name": "stdout",
     "output_type": "stream",
     "text": [
      "465\n"
     ]
    }
   ],
   "source": [
    "print(police_killings[police_killings[\"p_income\"] != '-'].shape[0])"
   ]
  },
  {
   "cell_type": "code",
   "execution_count": 22,
   "metadata": {
    "collapsed": false
   },
   "outputs": [
    {
     "data": {
      "text/plain": [
       "<matplotlib.axes._subplots.AxesSubplot at 0x7f8ab7b755f8>"
      ]
     },
     "execution_count": 22,
     "metadata": {},
     "output_type": "execute_result"
    },
    {
     "data": {
      "image/png": "[encoded data removed]",
      "text/plain": [
       "<matplotlib.figure.Figure at 0x7f8ab7bc90f0>"
      ]
     },
     "metadata": {},
     "output_type": "display_data"
    }
   ],
   "source": [
    "police_killings.loc[police_killings[\"p_income\"] == '-', \"p_income\"] = '0'\n",
    "police_killings[\"p_income\"].astype(int).hist(bins = 10)"
   ]
  },
  {
   "cell_type": "markdown",
   "metadata": {},
   "source": [
    "Shootings by state"
   ]
  },
  {
   "cell_type": "code",
   "execution_count": 25,
   "metadata": {
    "collapsed": false
   },
   "outputs": [
    {
     "data": {
      "text/html": [
       "<div style=\"max-height:1000px;max-width:1500px;overflow:auto;\">\n",
       "<table border=\"1\" class=\"dataframe\">\n",
       "  <thead>\n",
       "    <tr style=\"text-align: right;\">\n",
       "      <th></th>\n",
       "      <th>SUMLEV</th>\n",
       "      <th>REGION</th>\n",
       "      <th>DIVISION</th>\n",
       "      <th>STATE</th>\n",
       "      <th>NAME</th>\n",
       "      <th>POPESTIMATE2015</th>\n",
       "      <th>POPEST18PLUS2015</th>\n",
       "      <th>PCNT_POPEST18PLUS</th>\n",
       "    </tr>\n",
       "  </thead>\n",
       "  <tbody>\n",
       "    <tr>\n",
       "      <th>0</th>\n",
       "      <td> 10</td>\n",
       "      <td> 0</td>\n",
       "      <td> 0</td>\n",
       "      <td> 0</td>\n",
       "      <td> United States</td>\n",
       "      <td> 321418820</td>\n",
       "      <td> 247773709</td>\n",
       "      <td> 77.1</td>\n",
       "    </tr>\n",
       "    <tr>\n",
       "      <th>1</th>\n",
       "      <td> 40</td>\n",
       "      <td> 3</td>\n",
       "      <td> 6</td>\n",
       "      <td> 1</td>\n",
       "      <td>       Alabama</td>\n",
       "      <td>   4858979</td>\n",
       "      <td>   3755483</td>\n",
       "      <td> 77.3</td>\n",
       "    </tr>\n",
       "  </tbody>\n",
       "</table>\n",
       "</div>"
      ],
      "text/plain": [
       "   SUMLEV REGION DIVISION  STATE           NAME  POPESTIMATE2015  \\\n",
       "0      10      0        0      0  United States        321418820   \n",
       "1      40      3        6      1        Alabama          4858979   \n",
       "\n",
       "   POPEST18PLUS2015  PCNT_POPEST18PLUS  \n",
       "0         247773709               77.1  \n",
       "1           3755483               77.3  "
      ]
     },
     "execution_count": 25,
     "metadata": {},
     "output_type": "execute_result"
    }
   ],
   "source": [
    "#Getting external data which has population details\n",
    "state_pop = pd.read_csv(\"state_population.csv\")\n",
    "state_pop.head(2)"
   ]
  },
  {
   "cell_type": "code",
   "execution_count": 26,
   "metadata": {
    "collapsed": false
   },
   "outputs": [],
   "source": [
    "counts = police_killings[\"state_fp\"].value_counts()\n",
    "\n",
    "states = pd.DataFrame({\"STATE\": counts.index, \"shootings\": counts})\n",
    "states = states.merge(state_pop, on = \"STATE\")"
   ]
  },
  {
   "cell_type": "code",
   "execution_count": 27,
   "metadata": {
    "collapsed": false
   },
   "outputs": [
    {
     "data": {
      "text/html": [
       "<div style=\"max-height:1000px;max-width:1500px;overflow:auto;\">\n",
       "<table border=\"1\" class=\"dataframe\">\n",
       "  <thead>\n",
       "    <tr style=\"text-align: right;\">\n",
       "      <th></th>\n",
       "      <th>STATE</th>\n",
       "      <th>shootings</th>\n",
       "      <th>SUMLEV</th>\n",
       "      <th>REGION</th>\n",
       "      <th>DIVISION</th>\n",
       "      <th>NAME</th>\n",
       "      <th>POPESTIMATE2015</th>\n",
       "      <th>POPEST18PLUS2015</th>\n",
       "      <th>PCNT_POPEST18PLUS</th>\n",
       "    </tr>\n",
       "  </thead>\n",
       "  <tbody>\n",
       "    <tr>\n",
       "      <th>0</th>\n",
       "      <td>  6</td>\n",
       "      <td> 74</td>\n",
       "      <td> 40</td>\n",
       "      <td> 4</td>\n",
       "      <td> 9</td>\n",
       "      <td> California</td>\n",
       "      <td> 39144818</td>\n",
       "      <td> 30023902</td>\n",
       "      <td> 76.7</td>\n",
       "    </tr>\n",
       "    <tr>\n",
       "      <th>1</th>\n",
       "      <td> 48</td>\n",
       "      <td> 47</td>\n",
       "      <td> 40</td>\n",
       "      <td> 3</td>\n",
       "      <td> 7</td>\n",
       "      <td>      Texas</td>\n",
       "      <td> 27469114</td>\n",
       "      <td> 20257343</td>\n",
       "      <td> 73.7</td>\n",
       "    </tr>\n",
       "  </tbody>\n",
       "</table>\n",
       "</div>"
      ],
      "text/plain": [
       "   STATE  shootings  SUMLEV REGION DIVISION        NAME  POPESTIMATE2015  \\\n",
       "0      6         74      40      4        9  California         39144818   \n",
       "1     48         47      40      3        7       Texas         27469114   \n",
       "\n",
       "   POPEST18PLUS2015  PCNT_POPEST18PLUS  \n",
       "0          30023902               76.7  \n",
       "1          20257343               73.7  "
      ]
     },
     "execution_count": 27,
     "metadata": {},
     "output_type": "execute_result"
    }
   ],
   "source": [
    "states.head(2)"
   ]
  },
  {
   "cell_type": "code",
   "execution_count": 30,
   "metadata": {
    "collapsed": false
   },
   "outputs": [],
   "source": [
    "states[\"pop_millions\"] = states[\"POPESTIMATE2015\"]/1000000\n",
    "states[\"rate\"] = states[\"shootings\"]/states[\"pop_millions\"]"
   ]
  },
  {
   "cell_type": "code",
   "execution_count": 33,
   "metadata": {
    "collapsed": false
   },
   "outputs": [
    {
     "data": {
      "text/html": [
       "<div style=\"max-height:1000px;max-width:1500px;overflow:auto;\">\n",
       "<table border=\"1\" class=\"dataframe\">\n",
       "  <thead>\n",
       "    <tr style=\"text-align: right;\">\n",
       "      <th></th>\n",
       "      <th>STATE</th>\n",
       "      <th>shootings</th>\n",
       "      <th>SUMLEV</th>\n",
       "      <th>REGION</th>\n",
       "      <th>DIVISION</th>\n",
       "      <th>NAME</th>\n",
       "      <th>POPESTIMATE2015</th>\n",
       "      <th>POPEST18PLUS2015</th>\n",
       "      <th>PCNT_POPEST18PLUS</th>\n",
       "      <th>pop_millions</th>\n",
       "      <th>rate</th>\n",
       "    </tr>\n",
       "  </thead>\n",
       "  <tbody>\n",
       "    <tr>\n",
       "      <th>43</th>\n",
       "      <td>  9</td>\n",
       "      <td> 1</td>\n",
       "      <td> 40</td>\n",
       "      <td> 1</td>\n",
       "      <td> 1</td>\n",
       "      <td>  Connecticut</td>\n",
       "      <td>  3590886</td>\n",
       "      <td>  2826827</td>\n",
       "      <td> 78.7</td>\n",
       "      <td>  3.590886</td>\n",
       "      <td> 0.278483</td>\n",
       "    </tr>\n",
       "    <tr>\n",
       "      <th>22</th>\n",
       "      <td> 42</td>\n",
       "      <td> 7</td>\n",
       "      <td> 40</td>\n",
       "      <td> 1</td>\n",
       "      <td> 2</td>\n",
       "      <td> Pennsylvania</td>\n",
       "      <td> 12802503</td>\n",
       "      <td> 10112229</td>\n",
       "      <td> 79.0</td>\n",
       "      <td> 12.802503</td>\n",
       "      <td> 0.546768</td>\n",
       "    </tr>\n",
       "  </tbody>\n",
       "</table>\n",
       "</div>"
      ],
      "text/plain": [
       "    STATE  shootings  SUMLEV REGION DIVISION          NAME  POPESTIMATE2015  \\\n",
       "43      9          1      40      1        1   Connecticut          3590886   \n",
       "22     42          7      40      1        2  Pennsylvania         12802503   \n",
       "\n",
       "    POPEST18PLUS2015  PCNT_POPEST18PLUS  pop_millions      rate  \n",
       "43           2826827               78.7      3.590886  0.278483  \n",
       "22          10112229               79.0     12.802503  0.546768  "
      ]
     },
     "execution_count": 33,
     "metadata": {},
     "output_type": "execute_result"
    }
   ],
   "source": [
    "states.sort(columns = \"rate\", inplace = True)\n",
    "\n",
    "# State with Least killing\n",
    "states.head(2)"
   ]
  },
  {
   "cell_type": "code",
   "execution_count": 34,
   "metadata": {
    "collapsed": false
   },
   "outputs": [
    {
     "data": {
      "text/html": [
       "<div style=\"max-height:1000px;max-width:1500px;overflow:auto;\">\n",
       "<table border=\"1\" class=\"dataframe\">\n",
       "  <thead>\n",
       "    <tr style=\"text-align: right;\">\n",
       "      <th></th>\n",
       "      <th>STATE</th>\n",
       "      <th>shootings</th>\n",
       "      <th>SUMLEV</th>\n",
       "      <th>REGION</th>\n",
       "      <th>DIVISION</th>\n",
       "      <th>NAME</th>\n",
       "      <th>POPESTIMATE2015</th>\n",
       "      <th>POPEST18PLUS2015</th>\n",
       "      <th>PCNT_POPEST18PLUS</th>\n",
       "      <th>pop_millions</th>\n",
       "      <th>rate</th>\n",
       "    </tr>\n",
       "  </thead>\n",
       "  <tbody>\n",
       "    <tr>\n",
       "      <th>3</th>\n",
       "      <td>  4</td>\n",
       "      <td> 25</td>\n",
       "      <td> 40</td>\n",
       "      <td> 4</td>\n",
       "      <td> 8</td>\n",
       "      <td>  Arizona</td>\n",
       "      <td> 6828065</td>\n",
       "      <td> 5205215</td>\n",
       "      <td> 76.2</td>\n",
       "      <td> 6.828065</td>\n",
       "      <td> 3.661359</td>\n",
       "    </tr>\n",
       "    <tr>\n",
       "      <th>4</th>\n",
       "      <td> 40</td>\n",
       "      <td> 22</td>\n",
       "      <td> 40</td>\n",
       "      <td> 3</td>\n",
       "      <td> 7</td>\n",
       "      <td> Oklahoma</td>\n",
       "      <td> 3911338</td>\n",
       "      <td> 2950017</td>\n",
       "      <td> 75.4</td>\n",
       "      <td> 3.911338</td>\n",
       "      <td> 5.624674</td>\n",
       "    </tr>\n",
       "  </tbody>\n",
       "</table>\n",
       "</div>"
      ],
      "text/plain": [
       "   STATE  shootings  SUMLEV REGION DIVISION      NAME  POPESTIMATE2015  \\\n",
       "3      4         25      40      4        8   Arizona          6828065   \n",
       "4     40         22      40      3        7  Oklahoma          3911338   \n",
       "\n",
       "   POPEST18PLUS2015  PCNT_POPEST18PLUS  pop_millions      rate  \n",
       "3           5205215               76.2      6.828065  3.661359  \n",
       "4           2950017               75.4      3.911338  5.624674  "
      ]
     },
     "execution_count": 34,
     "metadata": {},
     "output_type": "execute_result"
    }
   ],
   "source": [
    "#State with Least killing\n",
    "states.tail(2)"
   ]
  },
  {
   "cell_type": "markdown",
   "metadata": {},
   "source": [
    "State by State differences"
   ]
  },
  {
   "cell_type": "code",
   "execution_count": 37,
   "metadata": {
    "collapsed": false
   },
   "outputs": [
    {
     "name": "stderr",
     "output_type": "stream",
     "text": [
      "/opt/dsserver/lib/python3.4/site-packages/IPython/kernel/__main__.py:7: SettingWithCopyWarning: \n",
      "A value is trying to be set on a copy of a slice from a DataFrame.\n",
      "Try using .loc[row_indexer,col_indexer] = value instead\n",
      "\n",
      "See the the caveats in the documentation: http://pandas.pydata.org/pandas-docs/stable/indexing.html#indexing-view-versus-copy\n",
      "/opt/dsserver/lib/python3.4/site-packages/IPython/kernel/__main__.py:8: SettingWithCopyWarning: \n",
      "A value is trying to be set on a copy of a slice from a DataFrame.\n",
      "Try using .loc[row_indexer,col_indexer] = value instead\n",
      "\n",
      "See the the caveats in the documentation: http://pandas.pydata.org/pandas-docs/stable/indexing.html#indexing-view-versus-copy\n",
      "/opt/dsserver/lib/python3.4/site-packages/IPython/kernel/__main__.py:9: SettingWithCopyWarning: \n",
      "A value is trying to be set on a copy of a slice from a DataFrame.\n",
      "Try using .loc[row_indexer,col_indexer] = value instead\n",
      "\n",
      "See the the caveats in the documentation: http://pandas.pydata.org/pandas-docs/stable/indexing.html#indexing-view-versus-copy\n"
     ]
    }
   ],
   "source": [
    "\n",
    "pk = police_killings[\n",
    "    (police_killings[\"share_white\"] != \"-\") & \n",
    "    (police_killings[\"share_black\"] != \"-\") & \n",
    "    (police_killings[\"share_hispanic\"] != \"-\")\n",
    "]\n",
    "pk[\"share_white\"] = pk[\"share_white\"].astype(float)\n",
    "pk[\"share_black\"] = pk[\"share_black\"].astype(float)\n",
    "pk[\"share_hispanic\"] = pk[\"share_hispanic\"].astype(float)"
   ]
  },
  {
   "cell_type": "code",
   "execution_count": 39,
   "metadata": {
    "collapsed": true
   },
   "outputs": [],
   "source": [
    "lowest_states = [\"CT\", \"PA\", \"IA\", \"NY\", \"MA\", \"NH\", \"ME\", \"IL\", \"OH\", \"WI\"]\n",
    "highest_states = [\"OK\", \"AZ\", \"NE\", \"HI\", \"AK\", \"ID\", \"NM\", \"LA\", \"CO\", \"DE\"]\n",
    "\n",
    "ls = pk[pk[\"state\"].isin(lowest_states)]\n",
    "hs = pk[pk[\"state\"].isin(highest_states)]"
   ]
  },
  {
   "cell_type": "code",
   "execution_count": 40,
   "metadata": {
    "collapsed": false
   },
   "outputs": [
    {
     "data": {
      "text/html": [
       "<div style=\"max-height:1000px;max-width:1500px;overflow:auto;\">\n",
       "<table border=\"1\" class=\"dataframe\">\n",
       "  <thead>\n",
       "    <tr style=\"text-align: right;\">\n",
       "      <th></th>\n",
       "      <th>name</th>\n",
       "      <th>age</th>\n",
       "      <th>gender</th>\n",
       "      <th>raceethnicity</th>\n",
       "      <th>month</th>\n",
       "      <th>day</th>\n",
       "      <th>year</th>\n",
       "      <th>streetaddress</th>\n",
       "      <th>city</th>\n",
       "      <th>state</th>\n",
       "      <th>...</th>\n",
       "      <th>share_hispanic</th>\n",
       "      <th>p_income</th>\n",
       "      <th>h_income</th>\n",
       "      <th>county_income</th>\n",
       "      <th>comp_income</th>\n",
       "      <th>county_bucket</th>\n",
       "      <th>nat_bucket</th>\n",
       "      <th>pov</th>\n",
       "      <th>urate</th>\n",
       "      <th>college</th>\n",
       "    </tr>\n",
       "  </thead>\n",
       "  <tbody>\n",
       "    <tr>\n",
       "      <th>2</th>\n",
       "      <td>  Aaron Siler</td>\n",
       "      <td> 26</td>\n",
       "      <td> Male</td>\n",
       "      <td> White</td>\n",
       "      <td> March</td>\n",
       "      <td> 14</td>\n",
       "      <td> 2015</td>\n",
       "      <td> 22nd Ave and 56th St</td>\n",
       "      <td>      Kenosha</td>\n",
       "      <td> WI</td>\n",
       "      <td>...</td>\n",
       "      <td> 16.8</td>\n",
       "      <td> 25286</td>\n",
       "      <td> 45365</td>\n",
       "      <td> 54930</td>\n",
       "      <td> 0.825869</td>\n",
       "      <td> 2</td>\n",
       "      <td> 3</td>\n",
       "      <td> 14.6</td>\n",
       "      <td> 0.166293</td>\n",
       "      <td> 0.147312</td>\n",
       "    </tr>\n",
       "    <tr>\n",
       "      <th>4</th>\n",
       "      <td> Adam Jovicic</td>\n",
       "      <td> 29</td>\n",
       "      <td> Male</td>\n",
       "      <td> White</td>\n",
       "      <td> March</td>\n",
       "      <td> 19</td>\n",
       "      <td> 2015</td>\n",
       "      <td>       364 Hiwood Ave</td>\n",
       "      <td> Munroe Falls</td>\n",
       "      <td> OH</td>\n",
       "      <td>...</td>\n",
       "      <td>  1.7</td>\n",
       "      <td> 33954</td>\n",
       "      <td> 68785</td>\n",
       "      <td> 49669</td>\n",
       "      <td> 1.384868</td>\n",
       "      <td> 5</td>\n",
       "      <td> 4</td>\n",
       "      <td>  1.9</td>\n",
       "      <td> 0.063550</td>\n",
       "      <td> 0.403954</td>\n",
       "    </tr>\n",
       "  </tbody>\n",
       "</table>\n",
       "<p>2 rows × 34 columns</p>\n",
       "</div>"
      ],
      "text/plain": [
       "           name age gender raceethnicity  month  day  year  \\\n",
       "2   Aaron Siler  26   Male         White  March   14  2015   \n",
       "4  Adam Jovicic  29   Male         White  March   19  2015   \n",
       "\n",
       "          streetaddress          city state    ...     share_hispanic  \\\n",
       "2  22nd Ave and 56th St       Kenosha    WI    ...               16.8   \n",
       "4        364 Hiwood Ave  Munroe Falls    OH    ...                1.7   \n",
       "\n",
       "   p_income  h_income  county_income  comp_income  county_bucket  nat_bucket  \\\n",
       "2     25286     45365          54930     0.825869              2           3   \n",
       "4     33954     68785          49669     1.384868              5           4   \n",
       "\n",
       "    pov     urate   college  \n",
       "2  14.6  0.166293  0.147312  \n",
       "4   1.9  0.063550  0.403954  \n",
       "\n",
       "[2 rows x 34 columns]"
      ]
     },
     "execution_count": 40,
     "metadata": {},
     "output_type": "execute_result"
    }
   ],
   "source": [
    "ls.head(2)"
   ]
  },
  {
   "cell_type": "code",
   "execution_count": 41,
   "metadata": {
    "collapsed": false
   },
   "outputs": [
    {
     "data": {
      "text/plain": [
       "pop                4201.660714\n",
       "county_income     54830.839286\n",
       "share_white          60.616071\n",
       "share_black          21.257143\n",
       "share_hispanic       12.948214\n",
       "dtype: float64"
      ]
     },
     "execution_count": 41,
     "metadata": {},
     "output_type": "execute_result"
    }
   ],
   "source": [
    "columns = [\"pop\", \"county_income\", \"share_white\", \"share_black\", \"share_hispanic\"]\n",
    "ls[columns].mean()"
   ]
  },
  {
   "cell_type": "code",
   "execution_count": 42,
   "metadata": {
    "collapsed": false
   },
   "outputs": [
    {
     "data": {
      "text/plain": [
       "pop                4315.750000\n",
       "county_income     48706.967391\n",
       "share_white          55.652174\n",
       "share_black          11.532609\n",
       "share_hispanic       20.693478\n",
       "dtype: float64"
      ]
     },
     "execution_count": 42,
     "metadata": {},
     "output_type": "execute_result"
    }
   ],
   "source": [
    "hs[columns].mean()"
   ]
  },
  {
   "cell_type": "code",
   "execution_count": null,
   "metadata": {
    "collapsed": true
   },
   "outputs": [],
   "source": []
  }
 ],
 "metadata": {
  "kernelspec": {
   "display_name": "Python 3",
   "language": "python",
   "name": "python3"
  },
  "language_info": {
   "codemirror_mode": {
    "name": "ipython",
    "version": 3
   },
   "file_extension": ".py",
   "mimetype": "text/x-python",
   "name": "python",
   "nbconvert_exporter": "python",
   "pygments_lexer": "ipython3",
   "version": "3.4.3"
  }
 },
 "nbformat": 4,
 "nbformat_minor": 0
}
